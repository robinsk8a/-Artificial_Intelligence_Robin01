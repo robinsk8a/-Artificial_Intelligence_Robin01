{
  "nbformat": 4,
  "nbformat_minor": 0,
  "metadata": {
    "colab": {
      "provenance": [],
      "authorship_tag": "ABX9TyMQU1hOnhImsgk2FQ60Uj0d",
      "include_colab_link": true
    },
    "kernelspec": {
      "name": "python3",
      "display_name": "Python 3"
    },
    "language_info": {
      "name": "python"
    }
  },
  "cells": [
    {
      "cell_type": "markdown",
      "metadata": {
        "id": "view-in-github",
        "colab_type": "text"
      },
      "source": [
        "<a href=\"https://colab.research.google.com/github/robinsk8a/Artificial_Intelligence_Robin01/blob/main/Bourke_YT_PyToch_Curse/01_PyTorch_workflow_curse.ipynb\" target=\"_parent\"><img src=\"https://colab.research.google.com/assets/colab-badge.svg\" alt=\"Open In Colab\"/></a>"
      ]
    },
    {
      "cell_type": "markdown",
      "source": [
        "# PyTorch workflow"
      ],
      "metadata": {
        "id": "bBVvOJKauX2V"
      }
    },
    {
      "cell_type": "code",
      "source": [
        "import torch\n",
        "from torch import nn # nn contains all of PyTorch's building blocks for neural networks\n",
        "import numpy as np\n",
        "import matplotlib.pyplot as plt\n",
        "\n",
        "#check PyTorch version\n",
        "torch.__version__"
      ],
      "metadata": {
        "colab": {
          "base_uri": "https://localhost:8080/",
          "height": 36
        },
        "id": "L8Se_yNVvM8k",
        "outputId": "ed7dd89c-cb01-4ea7-f14e-e603b0053bf7"
      },
      "execution_count": 54,
      "outputs": [
        {
          "output_type": "execute_result",
          "data": {
            "text/plain": [
              "'1.13.1+cu116'"
            ],
            "application/vnd.google.colaboratory.intrinsic+json": {
              "type": "string"
            }
          },
          "metadata": {},
          "execution_count": 54
        }
      ]
    },
    {
      "cell_type": "markdown",
      "source": [
        "## 1. Data (preparing and loading)\n",
        "### Data can be anythinf in ML, like spread sheets, images, audios...\n",
        "\n",
        "Our main objetive with the data that we have is to **get the data into a numerical representation** and then **build a model that detects patterns** base on that numerical representations"
      ],
      "metadata": {
        "id": "KvS5b6Yzwnnf"
      }
    },
    {
      "cell_type": "markdown",
      "source": [
        "## Linear Regression formula:\n",
        "\n",
        "![image.png](data:image/png;base64,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)"
      ],
      "metadata": {
        "id": "Onzc3hfzzV2b"
      }
    },
    {
      "cell_type": "code",
      "source": [
        "# Let's create some known data using the linear regression formula\n",
        "weight = 0.7 # In the LR formula this variable would be \"b\"\n",
        "bias = 0.3   # In the LR formula this variable would be \"a\"\n",
        "\n",
        "# We want to create a model that allow us to estimate these two prior numbers\n",
        "# We can do this by looking at different examples\n",
        "# Let's first define a range\n",
        "start = 0\n",
        "end = 1\n",
        "step = 0.02\n",
        "# The we define 2 tensors (or it's fundation) 'X' and 'Y'\n",
        "X = torch.arange(start, end, step).unsqueeze(dim=1)\n",
        "Y = weight * X + bias\n"
      ],
      "metadata": {
        "id": "SDDOXFnfxdM8"
      },
      "execution_count": 36,
      "outputs": []
    },
    {
      "cell_type": "code",
      "source": [
        "X[:10], Y[:10]"
      ],
      "metadata": {
        "colab": {
          "base_uri": "https://localhost:8080/"
        },
        "id": "CSYQI4CP1oXw",
        "outputId": "f8a19baa-610b-4f6a-e336-054196bdbcbe"
      },
      "execution_count": 37,
      "outputs": [
        {
          "output_type": "execute_result",
          "data": {
            "text/plain": [
              "(tensor([[0.0000],\n",
              "         [0.0200],\n",
              "         [0.0400],\n",
              "         [0.0600],\n",
              "         [0.0800],\n",
              "         [0.1000],\n",
              "         [0.1200],\n",
              "         [0.1400],\n",
              "         [0.1600],\n",
              "         [0.1800]]), tensor([[0.3000],\n",
              "         [0.3140],\n",
              "         [0.3280],\n",
              "         [0.3420],\n",
              "         [0.3560],\n",
              "         [0.3700],\n",
              "         [0.3840],\n",
              "         [0.3980],\n",
              "         [0.4120],\n",
              "         [0.4260]]))"
            ]
          },
          "metadata": {},
          "execution_count": 37
        }
      ]
    },
    {
      "cell_type": "code",
      "source": [
        "len(X), len(Y)"
      ],
      "metadata": {
        "colab": {
          "base_uri": "https://localhost:8080/"
        },
        "id": "16zrQw321rTw",
        "outputId": "368e688e-c749-43b8-f612-1f11dce89fdb"
      },
      "execution_count": 38,
      "outputs": [
        {
          "output_type": "execute_result",
          "data": {
            "text/plain": [
              "(50, 50)"
            ]
          },
          "metadata": {},
          "execution_count": 38
        }
      ]
    },
    {
      "cell_type": "markdown",
      "source": [
        "### Splitting data into training and test sets"
      ],
      "metadata": {
        "id": "45PW1eBG1sEe"
      }
    },
    {
      "cell_type": "code",
      "source": [
        "# We creat a train set with the 80% of our data\n",
        "train_split = int(0.8 * len(X))\n",
        "X_train, Y_train = X[:train_split], Y[:train_split]\n",
        "X_test, Y_test = X[train_split:], Y[train_split:]\n",
        "len(X_train), len(Y_train), len(X_test), len(Y_test)"
      ],
      "metadata": {
        "colab": {
          "base_uri": "https://localhost:8080/"
        },
        "id": "wLXizqX0DxuZ",
        "outputId": "eee00bc1-326f-4bc1-99b6-6de33a95bd11"
      },
      "execution_count": 39,
      "outputs": [
        {
          "output_type": "execute_result",
          "data": {
            "text/plain": [
              "(40, 40, 10, 10)"
            ]
          },
          "metadata": {},
          "execution_count": 39
        }
      ]
    },
    {
      "cell_type": "markdown",
      "source": [
        "## Visualize data"
      ],
      "metadata": {
        "id": "BX2LjqufGhND"
      }
    },
    {
      "cell_type": "code",
      "source": [
        "def plot_predictions(train_data = X_train,\n",
        "                     train_labels = Y_train,\n",
        "                     test_data = X_test,\n",
        "                     test_labels = Y_test,\n",
        "                     predictions = None):\n",
        "  s=12\n",
        "  plt.figure(figsize=(10, 7))\n",
        "  # plot training data\n",
        "  plt.scatter(train_data, train_labels, c=\"b\", s=s, label=\"Training data\")\n",
        "\n",
        "  # plot test data\n",
        "  plt.scatter(test_data, test_labels, c=\"orange\", s=s, label=\"Testing data\")\n",
        "\n",
        "  # are there predictions\n",
        "  if predictions is not None:\n",
        "    # plot the predictions\n",
        "    plt.scatter(test_data, predictions, c=\"g\", s=s, label= \"Predictions\")\n",
        "  # show the legend\n",
        "  plt.legend(prop={\"size\": 14})\n",
        "\n",
        "plot_predictions()"
      ],
      "metadata": {
        "colab": {
          "base_uri": "https://localhost:8080/",
          "height": 428
        },
        "id": "-CyFVAUwGkl0",
        "outputId": "a7e962af-0e07-450f-e568-3e9834febe04"
      },
      "execution_count": 40,
      "outputs": [
        {
          "output_type": "display_data",
          "data": {
            "text/plain": [
              "<Figure size 720x504 with 1 Axes>"
            ],
            "image/png": "[encoded data removed]"
          },
          "metadata": {
            "needs_background": "light"
          }
        }
      ]
    },
    {
      "cell_type": "markdown",
      "source": [
        "# Building our first model"
      ],
      "metadata": {
        "id": "sXnMbUMqKWZg"
      }
    },
    {
      "cell_type": "code",
      "source": [
        "# First we create a linear regression model class\n",
        "class LinearRegressionModel(nn.Module): # nn is like the lego building bricks of PyTorch module\n",
        "  def __init__(self):\n",
        "    super().__init__()\n",
        "    self.weights = nn.Parameter(torch.randn(1,\n",
        "                                            requires_grad=True,\n",
        "                                            dtype=torch.float))\n",
        "    self.bias = nn.Parameter(torch.randn(1,\n",
        "                                         requires_grad=True,\n",
        "                                         dtype=torch.float))\n",
        "    \n",
        "    # Forward method to define the computation in the model\n",
        "  def forward(self, x: torch.Tensor) -> torch.Tensor: # \"x\" is the input data\n",
        "    return self.weights * x + self.bias # This is the linear regression formula"
      ],
      "metadata": {
        "id": "DiN4O6X2NjKA"
      },
      "execution_count": 41,
      "outputs": []
    },
    {
      "cell_type": "markdown",
      "source": [
        "### PyTorch building models essentials\n",
        "\\\n",
        "* torch.nn - have all the building blocks for computational graphs (Neural networks an more)\n",
        "* torch.nn.Parameter - What parameters should out model try and learn\n",
        "* torch.nn.Module - The base class for all our neural network functions. If we make it a subclass then we need to overwrite the forward function\n",
        "* torch.optim - this is where we find the optimizers, these will help us with gradient descent\n",
        "* def forward() - All nn.Module subclasses require us to overwrite forward. This function defines what happend in the forward computation"
      ],
      "metadata": {
        "id": "ow0gQcLD07u8"
      }
    },
    {
      "cell_type": "code",
      "source": [
        "# We can check out our model parameters using the module \".parameters()\"\n",
        "# Now we create a random seed for reproducibility\n",
        "torch.manual_seed(42)\n",
        "\n",
        "# now we create an instance of the model we created previously (a subclass of nn.Module)\n",
        "model_0 = LinearRegressionModel()\n",
        "\n",
        "#checking out the parameters\n",
        "list(model_0.parameters())"
      ],
      "metadata": {
        "colab": {
          "base_uri": "https://localhost:8080/"
        },
        "id": "xxfTHrQk1dM6",
        "outputId": "1f38d765-3366-4376-c20f-ced5dc41ec0e"
      },
      "execution_count": 42,
      "outputs": [
        {
          "output_type": "execute_result",
          "data": {
            "text/plain": [
              "[Parameter containing:\n",
              " tensor([0.3367], requires_grad=True), Parameter containing:\n",
              " tensor([0.1288], requires_grad=True)]"
            ]
          },
          "metadata": {},
          "execution_count": 42
        }
      ]
    },
    {
      "cell_type": "code",
      "source": [
        "# List named parameters\n",
        "model_0.state_dict()"
      ],
      "metadata": {
        "colab": {
          "base_uri": "https://localhost:8080/"
        },
        "id": "aPUc5rOCl51M",
        "outputId": "9cc8b7d0-5cdb-46ce-d827-c0edd309fd56"
      },
      "execution_count": 43,
      "outputs": [
        {
          "output_type": "execute_result",
          "data": {
            "text/plain": [
              "OrderedDict([('weights', tensor([0.3367])), ('bias', tensor([0.1288]))])"
            ]
          },
          "metadata": {},
          "execution_count": 43
        }
      ]
    },
    {
      "cell_type": "markdown",
      "source": [
        "## First predictons"
      ],
      "metadata": {
        "id": "NAuJzA9LqUCN"
      }
    },
    {
      "cell_type": "code",
      "source": [
        "# Making predictions using torch.inferene_mode()\n",
        "with torch.inference_mode():\n",
        "  y_preds = model_0(X_test)\n",
        "\n",
        "y_preds"
      ],
      "metadata": {
        "colab": {
          "base_uri": "https://localhost:8080/"
        },
        "id": "kqzBAUYgmKJ9",
        "outputId": "dd9ac4b2-0070-419d-c027-b52ef6d40b8a"
      },
      "execution_count": 44,
      "outputs": [
        {
          "output_type": "execute_result",
          "data": {
            "text/plain": [
              "tensor([[0.3982],\n",
              "        [0.4049],\n",
              "        [0.4116],\n",
              "        [0.4184],\n",
              "        [0.4251],\n",
              "        [0.4318],\n",
              "        [0.4386],\n",
              "        [0.4453],\n",
              "        [0.4520],\n",
              "        [0.4588]])"
            ]
          },
          "metadata": {},
          "execution_count": 44
        }
      ]
    },
    {
      "cell_type": "code",
      "source": [
        "plot_predictions(predictions=y_preds)"
      ],
      "metadata": {
        "colab": {
          "base_uri": "https://localhost:8080/",
          "height": 428
        },
        "id": "eHIe6nmMo7mQ",
        "outputId": "f78e05e2-72f4-4276-c91c-d4a45abdcfb8"
      },
      "execution_count": 45,
      "outputs": [
        {
          "output_type": "display_data",
          "data": {
            "text/plain": [
              "<Figure size 720x504 with 1 Axes>"
            ],
            "image/png": "[encoded data removed]"
          },
          "metadata": {
            "needs_background": "light"
          }
        }
      ]
    },
    {
      "cell_type": "markdown",
      "source": [
        "## Training model"
      ],
      "metadata": {
        "id": "ExQlq9VxqOp6"
      }
    },
    {
      "cell_type": "code",
      "source": [
        "# Setup the loss function\n",
        "loss_fn = nn.L1Loss()\n",
        "\n",
        "# Setup optimizer (Stochastic gradient decent)\n",
        "optimizer = torch.optim.SGD(params=model_0.parameters(),\n",
        "                            lr=0.01)"
      ],
      "metadata": {
        "id": "lnX7I2RpqiBp"
      },
      "execution_count": 46,
      "outputs": []
    },
    {
      "cell_type": "code",
      "source": [
        "loss_fn"
      ],
      "metadata": {
        "colab": {
          "base_uri": "https://localhost:8080/"
        },
        "id": "kVyEvWTr7O2N",
        "outputId": "f0b0f599-2717-4695-b445-07c16073b618"
      },
      "execution_count": 47,
      "outputs": [
        {
          "output_type": "execute_result",
          "data": {
            "text/plain": [
              "L1Loss()"
            ]
          },
          "metadata": {},
          "execution_count": 47
        }
      ]
    },
    {
      "cell_type": "markdown",
      "source": [
        "### Building a traning loop"
      ],
      "metadata": {
        "id": "c4u5S_dF8-d6"
      }
    },
    {
      "cell_type": "code",
      "source": [
        "torch.manual_seed(42)\n",
        "# An epoch is one loop through the data\n",
        "epochs = 200\n",
        "\n",
        "# Track values\n",
        "epoch_count= []\n",
        "loss_values=[]\n",
        "test_loss_values= []\n",
        "\n",
        "# 0. loop through the data\n",
        "\n",
        "for epoch in range(epochs):\n",
        "  # set the model to training mode\n",
        "  model_0.train() # taing mode in PyTorch sets all parameters that requires gradients to require gradients\n",
        "  \n",
        "  # 1. Forward pass\n",
        "  y_pred = model_0(X_train)\n",
        "\n",
        "  # 2. Calculate the loss\n",
        "  loss= loss_fn(y_pred, Y_train)\n",
        "\n",
        "  # 3, Optimizer zero grad\n",
        "  optimizer.zero_grad()\n",
        "\n",
        "  # 4. Perform Backpropagation on the loss with respec to the parameters of the model\n",
        "  loss.backward()\n",
        "\n",
        "  # 5. Step the optimizer (perform gradient decent)\n",
        "  optimizer.step() # Bi default how the optimizer will accumulate through the loop so... we have to zero them above in step 3 for the next iteration of the loop\n",
        "\n",
        "  model_0.eval() # Turns off several functions on the code that are not needed for testing porpouse\n",
        "  with torch.inference_mode(): # This turns off gradient tracking\n",
        "  \n",
        "    # 1. Forward pass\n",
        "    test_pred = model_0(X_test)\n",
        "\n",
        "    # 2. Calculate the test loss\n",
        "    test_loss = loss_fn(test_pred, Y_test)\n",
        "\n",
        "  if epoch % 10 == 0:\n",
        "\n",
        "    epoch_count.append(epoch)\n",
        "    loss_values.append(loss)\n",
        "    test_loss_values.append(test_loss)\n",
        "\n",
        "    print(f\"Epoch: {epoch} | Loss: {loss} | Test loss: {test_loss}\")\n",
        "    \n",
        "    # Printing the model state dict\n",
        "    print(model_0.state_dict())\n"
      ],
      "metadata": {
        "id": "kORxh1Y29VsZ",
        "colab": {
          "base_uri": "https://localhost:8080/"
        },
        "outputId": "510b2022-4235-465b-fc00-102b707be697"
      },
      "execution_count": 56,
      "outputs": [
        {
          "output_type": "stream",
          "name": "stdout",
          "text": [
            "Epoch: 0 | Loss: 0.008932482451200485 | Test loss: 0.005023092031478882\n",
            "OrderedDict([('weights', tensor([0.6951])), ('bias', tensor([0.2993]))])\n",
            "Epoch: 10 | Loss: 0.008932482451200485 | Test loss: 0.005023092031478882\n",
            "OrderedDict([('weights', tensor([0.6951])), ('bias', tensor([0.2993]))])\n",
            "Epoch: 20 | Loss: 0.008932482451200485 | Test loss: 0.005023092031478882\n",
            "OrderedDict([('weights', tensor([0.6951])), ('bias', tensor([0.2993]))])\n",
            "Epoch: 30 | Loss: 0.008932482451200485 | Test loss: 0.005023092031478882\n",
            "OrderedDict([('weights', tensor([0.6951])), ('bias', tensor([0.2993]))])\n",
            "Epoch: 40 | Loss: 0.008932482451200485 | Test loss: 0.005023092031478882\n",
            "OrderedDict([('weights', tensor([0.6951])), ('bias', tensor([0.2993]))])\n",
            "Epoch: 50 | Loss: 0.008932482451200485 | Test loss: 0.005023092031478882\n",
            "OrderedDict([('weights', tensor([0.6951])), ('bias', tensor([0.2993]))])\n",
            "Epoch: 60 | Loss: 0.008932482451200485 | Test loss: 0.005023092031478882\n",
            "OrderedDict([('weights', tensor([0.6951])), ('bias', tensor([0.2993]))])\n",
            "Epoch: 70 | Loss: 0.008932482451200485 | Test loss: 0.005023092031478882\n",
            "OrderedDict([('weights', tensor([0.6951])), ('bias', tensor([0.2993]))])\n",
            "Epoch: 80 | Loss: 0.008932482451200485 | Test loss: 0.005023092031478882\n",
            "OrderedDict([('weights', tensor([0.6951])), ('bias', tensor([0.2993]))])\n",
            "Epoch: 90 | Loss: 0.008932482451200485 | Test loss: 0.005023092031478882\n",
            "OrderedDict([('weights', tensor([0.6951])), ('bias', tensor([0.2993]))])\n",
            "Epoch: 100 | Loss: 0.008932482451200485 | Test loss: 0.005023092031478882\n",
            "OrderedDict([('weights', tensor([0.6951])), ('bias', tensor([0.2993]))])\n",
            "Epoch: 110 | Loss: 0.008932482451200485 | Test loss: 0.005023092031478882\n",
            "OrderedDict([('weights', tensor([0.6951])), ('bias', tensor([0.2993]))])\n",
            "Epoch: 120 | Loss: 0.008932482451200485 | Test loss: 0.005023092031478882\n",
            "OrderedDict([('weights', tensor([0.6951])), ('bias', tensor([0.2993]))])\n",
            "Epoch: 130 | Loss: 0.008932482451200485 | Test loss: 0.005023092031478882\n",
            "OrderedDict([('weights', tensor([0.6951])), ('bias', tensor([0.2993]))])\n",
            "Epoch: 140 | Loss: 0.008932482451200485 | Test loss: 0.005023092031478882\n",
            "OrderedDict([('weights', tensor([0.6951])), ('bias', tensor([0.2993]))])\n",
            "Epoch: 150 | Loss: 0.008932482451200485 | Test loss: 0.005023092031478882\n",
            "OrderedDict([('weights', tensor([0.6951])), ('bias', tensor([0.2993]))])\n",
            "Epoch: 160 | Loss: 0.008932482451200485 | Test loss: 0.005023092031478882\n",
            "OrderedDict([('weights', tensor([0.6951])), ('bias', tensor([0.2993]))])\n",
            "Epoch: 170 | Loss: 0.008932482451200485 | Test loss: 0.005023092031478882\n",
            "OrderedDict([('weights', tensor([0.6951])), ('bias', tensor([0.2993]))])\n",
            "Epoch: 180 | Loss: 0.008932482451200485 | Test loss: 0.005023092031478882\n",
            "OrderedDict([('weights', tensor([0.6951])), ('bias', tensor([0.2993]))])\n",
            "Epoch: 190 | Loss: 0.008932482451200485 | Test loss: 0.005023092031478882\n",
            "OrderedDict([('weights', tensor([0.6951])), ('bias', tensor([0.2993]))])\n"
          ]
        }
      ]
    },
    {
      "cell_type": "markdown",
      "source": [
        "### Loss curve"
      ],
      "metadata": {
        "id": "l7gwqnE1uA3Q"
      }
    },
    {
      "cell_type": "code",
      "source": [
        "# Plot the loss curve\n",
        "plt.plot(epoch_count, np.array(torch.tensor(loss_values).numpy()), label=\"Train loss\")\n",
        "plt.plot(epoch_count, test_loss_values, label= \"Test loss\")\n",
        "plt.title(\"Training and test loss curve\")\n",
        "plt.ylabel(\"Loss\")\n",
        "plt.xlabel(\"Epochs\")\n",
        "plt.legend()"
      ],
      "metadata": {
        "colab": {
          "base_uri": "https://localhost:8080/",
          "height": 313
        },
        "id": "qh-tfRWCsJA1",
        "outputId": "a2b1160a-4b22-40fd-f683-017524831898"
      },
      "execution_count": 55,
      "outputs": [
        {
          "output_type": "execute_result",
          "data": {
            "text/plain": [
              "<matplotlib.legend.Legend at 0x7f243bc50f70>"
            ]
          },
          "metadata": {},
          "execution_count": 55
        },
        {
          "output_type": "display_data",
          "data": {
            "text/plain": [
              "<Figure size 432x288 with 1 Axes>"
            ],
            "image/png": "[encoded data removed]"
          },
          "metadata": {
            "needs_background": "light"
          }
        }
      ]
    },
    {
      "cell_type": "code",
      "source": [
        "with torch.inference_mode():\n",
        "  y_preds_new = model_0(X_test)"
      ],
      "metadata": {
        "id": "jh4UcaYe1mT2"
      },
      "execution_count": 49,
      "outputs": []
    },
    {
      "cell_type": "code",
      "source": [
        "model_0.state_dict()"
      ],
      "metadata": {
        "colab": {
          "base_uri": "https://localhost:8080/"
        },
        "outputId": "bfec6992-8e84-4928-c227-a005a257f5f7",
        "id": "pSGRxs0t5yQ0"
      },
      "execution_count": 50,
      "outputs": [
        {
          "output_type": "execute_result",
          "data": {
            "text/plain": [
              "OrderedDict([('weights', tensor([0.6990])), ('bias', tensor([0.3093]))])"
            ]
          },
          "metadata": {},
          "execution_count": 50
        }
      ]
    },
    {
      "cell_type": "code",
      "source": [
        "plot_predictions(predictions=y_preds_new)"
      ],
      "metadata": {
        "colab": {
          "base_uri": "https://localhost:8080/",
          "height": 428
        },
        "id": "Q8BRpEbq6_Uy",
        "outputId": "532740b8-280d-41d4-eb90-9cdc6c31ec2f"
      },
      "execution_count": 51,
      "outputs": [
        {
          "output_type": "display_data",
          "data": {
            "text/plain": [
              "<Figure size 720x504 with 1 Axes>"
            ],
            "image/png": "[encoded data removed]"
          },
          "metadata": {
            "needs_background": "light"
          }
        }
      ]
    },
    {
      "cell_type": "markdown",
      "source": [
        "## Saving a model in PyTorch\n",
        "\\\n",
        "We have 3 principal method to save a model...\n",
        "\n",
        "* `torch.save()` - Allow us to save a PyTorch object in a pickle format\n",
        "* `torch.load()` - Allow us to load a saved PyTorch object\n",
        "* `torch.nn.Module.load_state_dict()` - Allow us to load a model's saved state dictionary (`model.state_dict()`)"
      ],
      "metadata": {
        "id": "Wt7M5ogyvVGU"
      }
    },
    {
      "cell_type": "code",
      "source": [
        "from IPython.utils import path\n",
        "# Saving our PyTorch module\n",
        "from pathlib import Path\n",
        "\n",
        "# 1. Create a model directory\n",
        "MODEL_PATH= Path(\"models\")\n",
        "MODEL_PATH.mkdir(parents=True, exist_ok=True)\n",
        "\n",
        "# 2. Create a model save path\n",
        "MODEL_NAME= \"DB_YT_Curse_Model_0.pth\"\n",
        "MODEL_SAVE_PATH= MODEL_PATH / MODEL_NAME\n",
        "\n",
        "# 3. Save the model state dict\n",
        "print(f\"Saving the model in: {MODEL_SAVE_PATH}\")\n",
        "torch.save(obj=model_0.state_dict(), f=MODEL_SAVE_PATH)"
      ],
      "metadata": {
        "colab": {
          "base_uri": "https://localhost:8080/"
        },
        "id": "3M2nukfmvYIa",
        "outputId": "a27c6299-2aa9-4238-8dee-3620573f90a9"
      },
      "execution_count": 60,
      "outputs": [
        {
          "output_type": "stream",
          "name": "stdout",
          "text": [
            "Saving the model in: models/DB_YT_Curse_Model_0.pth\n"
          ]
        }
      ]
    },
    {
      "cell_type": "code",
      "source": [
        "!ls -l models"
      ],
      "metadata": {
        "colab": {
          "base_uri": "https://localhost:8080/"
        },
        "id": "LVlKPeYWzu0m",
        "outputId": "9a761f9e-1129-4749-f61c-b4dc6816e9da"
      },
      "execution_count": 61,
      "outputs": [
        {
          "output_type": "stream",
          "name": "stdout",
          "text": [
            "total 4\n",
            "-rw-r--r-- 1 root root 1111 Feb 16 15:18 DB_YT_Curse_Model_0.pth\n"
          ]
        }
      ]
    },
    {
      "cell_type": "markdown",
      "source": [
        "### Loading our PyTorch model"
      ],
      "metadata": {
        "id": "eAvjjyqg0JDP"
      }
    },
    {
      "cell_type": "code",
      "source": [
        "# We instantiate our class so we can load our new model\n",
        "loaded_model_0= LinearRegressionModel()\n",
        "\n",
        "# This time we start again with random numbers...\n",
        "loaded_model_0.state_dict()"
      ],
      "metadata": {
        "colab": {
          "base_uri": "https://localhost:8080/"
        },
        "id": "5Q_-dhMhz1Dp",
        "outputId": "5c542858-a7bd-444e-f81d-9d668293ffa5"
      },
      "execution_count": 63,
      "outputs": [
        {
          "output_type": "execute_result",
          "data": {
            "text/plain": [
              "OrderedDict([('weights', tensor([0.2345])), ('bias', tensor([0.2303]))])"
            ]
          },
          "metadata": {},
          "execution_count": 63
        }
      ]
    },
    {
      "cell_type": "code",
      "source": [
        "# We load the saved state_dict() of our model_0\n",
        "loaded_model_0.load_state_dict(torch.load(f=MODEL_SAVE_PATH))\n",
        "\n",
        "# But when we load our file from the predefine path, we update the saved state_dict that we saved before\n",
        "loaded_model_0.state_dict()"
      ],
      "metadata": {
        "colab": {
          "base_uri": "https://localhost:8080/"
        },
        "id": "XyMKKie41aDt",
        "outputId": "4bcdfac8-6716-4f66-c773-90614d910f8a"
      },
      "execution_count": 64,
      "outputs": [
        {
          "output_type": "execute_result",
          "data": {
            "text/plain": [
              "OrderedDict([('weights', tensor([0.6990])), ('bias', tensor([0.3093]))])"
            ]
          },
          "metadata": {},
          "execution_count": 64
        }
      ]
    },
    {
      "cell_type": "code",
      "source": [
        "# Making some predictions with our loaded model\n",
        "loaded_model_0.eval()\n",
        "with torch.inference_mode():\n",
        "  loaded_model_0_preds= loaded_model_0(X_test)\n",
        "\n",
        "loaded_model_0_preds"
      ],
      "metadata": {
        "colab": {
          "base_uri": "https://localhost:8080/"
        },
        "id": "721EtbeT19zy",
        "outputId": "ee3e0e49-acd2-49fc-ad4d-6145345da5fb"
      },
      "execution_count": 65,
      "outputs": [
        {
          "output_type": "execute_result",
          "data": {
            "text/plain": [
              "tensor([[0.8685],\n",
              "        [0.8825],\n",
              "        [0.8965],\n",
              "        [0.9105],\n",
              "        [0.9245],\n",
              "        [0.9384],\n",
              "        [0.9524],\n",
              "        [0.9664],\n",
              "        [0.9804],\n",
              "        [0.9944]])"
            ]
          },
          "metadata": {},
          "execution_count": 65
        }
      ]
    },
    {
      "cell_type": "code",
      "source": [
        "# Compare loaded_model_preds with the original preds\n",
        "loaded_model_0.eval()\n",
        "with torch.inference_mode():\n",
        "  y_preds= model_0(X_test)\n",
        "\n",
        "y_preds == loaded_model_0_preds"
      ],
      "metadata": {
        "colab": {
          "base_uri": "https://localhost:8080/"
        },
        "id": "JLurxScX2c5A",
        "outputId": "45547819-5947-4b88-ecfa-6e939c890768"
      },
      "execution_count": 67,
      "outputs": [
        {
          "output_type": "execute_result",
          "data": {
            "text/plain": [
              "tensor([[True],\n",
              "        [True],\n",
              "        [True],\n",
              "        [True],\n",
              "        [True],\n",
              "        [True],\n",
              "        [True],\n",
              "        [True],\n",
              "        [True],\n",
              "        [True]])"
            ]
          },
          "metadata": {},
          "execution_count": 67
        }
      ]
    }
  ]
}